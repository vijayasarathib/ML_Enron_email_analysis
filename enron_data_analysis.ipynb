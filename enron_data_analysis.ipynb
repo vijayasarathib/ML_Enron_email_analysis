{
 "metadata": {
  "celltoolbar": "Raw Cell Format",
  "name": "",
  "signature": "sha256:11bf75c8ef004d775fdd50aede6985f564faffa722e2c668062d55b0a79a6905"
 },
 "nbformat": 3,
 "nbformat_minor": 0,
 "worksheets": [
  {
   "cells": [
    {
     "cell_type": "heading",
     "level": 4,
     "metadata": {},
     "source": [
      "                        Enron Data set analysis By vijayasarathi Balasubramanian"
     ]
    },
    {
     "cell_type": "heading",
     "level": 2,
     "metadata": {},
     "source": [
      "Project Overview"
     ]
    },
    {
     "cell_type": "markdown",
     "metadata": {},
     "source": [
      "\n",
      "In 2000, Enron was one of the largest companies in the United States. By 2002, it had collapsed into bankruptcy due to widespread corporate fraud. In the resulting Federal investigation, there was a significant amount of typically confidential information entered into public record, including tens of thousands of emails and detailed financial data for top executives.\n",
      "\n",
      "\n",
      "In this project, we are going to play detective role, and use our skills to build a person of interest identifier based on financial and email data made public as a result of the Enron scandal. To start the detective work, we've took the data that's combined with a hand-generated list of persons of interest in the fraud case, which means individuals who were indicted, reached a settlement, or plea deal with the government, or testified in exchange for prosecution immunity.\n",
      "\n",
      "\n",
      "There are four major steps in my project:\n",
      "1.Enron dataset\n",
      "2.Feature processing\n",
      "3.Algorithm\n",
      "4.Validation\n"
     ]
    },
    {
     "cell_type": "code",
     "collapsed": false,
     "input": [
      "# Bring in the library files to access from python programs\n",
      "\n",
      "from IPython.display import Image\n",
      "import matplotlib.pyplot as plt\n",
      "import sys\n",
      "import pickle\n",
      "from sklearn import preprocessing\n",
      "from time import time\n",
      "from sklearn.naive_bayes import GaussianNB\n",
      "from sklearn.metrics import accuracy_score\n",
      "from sklearn.grid_search import GridSearchCV\n",
      "from sklearn.metrics import precision_score\n",
      "from sklearn.metrics import recall_score\n",
      "sys.path.append(\"../tools/\")\n",
      "\n",
      "\n",
      "from feature_format import featureFormat\n",
      "from feature_format import targetFeatureSplit\n",
      "\n",
      "### features_list is a list of strings, each of which is a feature name\n",
      "### first feature must be \"poi\", as this will be singled out as the label\n",
      "features_list = [\"poi\"]\n",
      "\n",
      "### load the dictionary containing the dataset\n",
      "data_dict = pickle.load(open(\"final_project_dataset.pkl\", \"r\") )\n"
     ],
     "language": "python",
     "metadata": {},
     "outputs": [],
     "prompt_number": 1
    },
    {
     "cell_type": "markdown",
     "metadata": {},
     "source": [
      "Enron Data set - meta data analysis"
     ]
    },
    {
     "cell_type": "code",
     "collapsed": false,
     "input": [
      "#To find the number of executives\n",
      "print \"There are \", len(data_dict.keys()), \" executives in Enron Dataset.\""
     ],
     "language": "python",
     "metadata": {},
     "outputs": [
      {
       "output_type": "stream",
       "stream": "stdout",
       "text": [
        "There are  146  executives in Enron Dataset.\n"
       ]
      }
     ],
     "prompt_number": 2
    },
    {
     "cell_type": "code",
     "collapsed": false,
     "input": [
      "# print the keys in the data set\n",
      "print data_dict.keys()\n"
     ],
     "language": "python",
     "metadata": {},
     "outputs": [
      {
       "output_type": "stream",
       "stream": "stdout",
       "text": [
        "['METTS MARK', 'BAXTER JOHN C', 'ELLIOTT STEVEN', 'CORDES WILLIAM R', 'HANNON KEVIN P', 'MORDAUNT KRISTINA M', 'MEYER ROCKFORD G', 'MCMAHON JEFFREY', 'HORTON STANLEY C', 'PIPER GREGORY F', 'HUMPHREY GENE E', 'UMANOFF ADAM S', 'BLACHMAN JEREMY M', 'SUNDE MARTIN', 'GIBBS DANA R', 'LOWRY CHARLES P', 'COLWELL WESLEY', 'MULLER MARK S', 'JACKSON CHARLENE R', 'WESTFAHL RICHARD K', 'WALTERS GARETH W', 'WALLS JR ROBERT H', 'KITCHEN LOUISE', 'CHAN RONNIE', 'BELFER ROBERT', 'SHANKMAN JEFFREY A', 'WODRASKA JOHN', 'BERGSIEKER RICHARD P', 'URQUHART JOHN A', 'BIBI PHILIPPE A', 'RIEKER PAULA H', 'WHALEY DAVID A', 'BECK SALLY W', 'HAUG DAVID L', 'ECHOLS JOHN B', 'MENDELSOHN JOHN', 'HICKERSON GARY J', 'CLINE KENNETH W', 'LEWIS RICHARD', 'HAYES ROBERT E', 'MCCARTY DANNY J', 'KOPPER MICHAEL J', 'LEFF DANIEL P', 'LAVORATO JOHN J', 'BERBERIAN DAVID', 'DETMERING TIMOTHY J', 'WAKEHAM JOHN', 'POWERS WILLIAM', 'GOLD JOSEPH', 'BANNANTINE JAMES M', 'DUNCAN JOHN H', 'SHAPIRO RICHARD S', 'SHERRIFF JOHN R', 'SHELBY REX', 'LEMAISTRE CHARLES', 'DEFFNER JOSEPH M', 'KISHKILL JOSEPH G', 'WHALLEY LAWRENCE G', 'MCCONNELL MICHAEL S', 'PIRO JIM', 'DELAINEY DAVID W', 'SULLIVAN-SHAKLOVITZ COLLEEN', 'WROBEL BRUCE', 'LINDHOLM TOD A', 'MEYER JEROME J', 'LAY KENNETH L', 'BUTTS ROBERT H', 'OLSON CINDY K', 'MCDONALD REBECCA', 'CUMBERLAND MICHAEL S', 'GAHN ROBERT S', 'MCCLELLAN GEORGE', 'HERMANN ROBERT J', 'SCRIMSHAW MATTHEW', 'GATHMANN WILLIAM D', 'HAEDICKE MARK E', 'BOWEN JR RAYMOND M', 'GILLIS JOHN', 'FITZGERALD JAY L', 'MORAN MICHAEL P', 'REDMOND BRIAN L', 'BAZELIDES PHILIP J', 'BELDEN TIMOTHY N', 'DURAN WILLIAM D', 'THORN TERENCE H', 'FASTOW ANDREW S', 'FOY JOE', 'CALGER CHRISTOPHER F', 'RICE KENNETH D', 'KAMINSKI WINCENTY J', 'LOCKHART EUGENE E', 'COX DAVID', 'OVERDYKE JR JERE C', 'PEREIRA PAULO V. FERRAZ', 'STABLER FRANK', 'SKILLING JEFFREY K', 'BLAKE JR. NORMAN P', 'SHERRICK JEFFREY B', 'PRENTICE JAMES', 'GRAY RODNEY', 'PICKERING MARK R', 'THE TRAVEL AGENCY IN THE PARK', 'NOLES JAMES L', 'KEAN STEVEN J', 'TOTAL', 'FOWLER PEGGY', 'WASAFF GEORGE', 'WHITE JR THOMAS E', 'CHRISTODOULOU DIOMEDES', 'ALLEN PHILLIP K', 'SHARP VICTORIA T', 'JAEDICKE ROBERT', 'WINOKUR JR. HERBERT S', 'BROWN MICHAEL', 'BADUM JAMES P', 'HUGHES JAMES A', 'REYNOLDS LAWRENCE', 'DIMICHELE RICHARD G', 'BHATNAGAR SANJAY', 'CARTER REBECCA C', 'BUCHANAN HAROLD G', 'YEAP SOON', 'MURRAY JULIA H', 'GARLAND C KEVIN', 'DODSON KEITH', 'YEAGER F SCOTT', 'HIRKO JOSEPH', 'DIETRICH JANET R', 'DERRICK JR. JAMES V', 'FREVERT MARK A', 'PAI LOU L', 'BAY FRANKLIN R', 'HAYSLETT RODERICK J', 'FUGH JOHN L', 'FALLON JAMES B', 'KOENIG MARK E', 'SAVAGE FRANK', 'IZZO LAWRENCE L', 'TILNEY ELIZABETH A', 'MARTIN AMANDA K', 'BUY RICHARD B', 'GRAMM WENDY L', 'CAUSEY RICHARD A', 'TAYLOR MITCHELL S', 'DONAHUE JR JEFFREY M', 'GLISAN JR BEN F']\n"
       ]
      }
     ],
     "prompt_number": 3
    },
    {
     "cell_type": "code",
     "collapsed": false,
     "input": [
      "#check how the data looks like\n",
      "print data_dict['METTS MARK']"
     ],
     "language": "python",
     "metadata": {},
     "outputs": [
      {
       "output_type": "stream",
       "stream": "stdout",
       "text": [
        "{'salary': 365788, 'to_messages': 807, 'deferral_payments': 'NaN', 'total_payments': 1061827, 'exercised_stock_options': 'NaN', 'bonus': 600000, 'restricted_stock': 585062, 'shared_receipt_with_poi': 702, 'restricted_stock_deferred': 'NaN', 'total_stock_value': 585062, 'expenses': 94299, 'loan_advances': 'NaN', 'from_messages': 29, 'other': 1740, 'from_this_person_to_poi': 1, 'poi': False, 'director_fees': 'NaN', 'deferred_income': 'NaN', 'long_term_incentive': 'NaN', 'email_address': 'mark.metts@enron.com', 'from_poi_to_this_person': 38}\n"
       ]
      }
     ],
     "prompt_number": 4
    },
    {
     "cell_type": "heading",
     "level": 3,
     "metadata": {},
     "source": [
      "Enron Data set understanding :"
     ]
    },
    {
     "cell_type": "markdown",
     "metadata": {},
     "source": [
      "Before impose Machine learning algorithams on the data set we need to understand the data set bit to see if we have any outliers \n",
      "or issues in the data set, so that we can relay on the results.\n",
      "\n",
      "To start with lets plot the salaries vs bonus."
     ]
    },
    {
     "cell_type": "code",
     "collapsed": false,
     "input": [
      "#Check how the salary trends related to bonus.\n",
      "\n",
      "features = [\"salary\", \"bonus\"]\n",
      "#data_dict.pop('TOTAL', 0)\n",
      "data = featureFormat(data_dict, features)\n",
      "### plot features\n",
      "for point in data:\n",
      "    salary = point[0]\n",
      "    bonus = point[1]\n",
      "    plt.scatter( salary, bonus )\n",
      "\n",
      "plt.xlabel(\"salary\")\n",
      "plt.ylabel(\"bonus\")\n",
      "plt.show()"
     ],
     "language": "python",
     "metadata": {},
     "outputs": [],
     "prompt_number": 5
    },
    {
     "cell_type": "code",
     "collapsed": false,
     "input": [
      "Image(filename='figure_1.png')\n"
     ],
     "language": "python",
     "metadata": {},
     "outputs": [
      {
       "metadata": {},
       "output_type": "pyout",
       "png": "[encoded data removed]",
       "prompt_number": 6,
       "text": [
        "<IPython.core.display.Image at 0x2ccf730>"
       ]
      }
     ],
     "prompt_number": 6
    },
    {
     "cell_type": "markdown",
     "metadata": {},
     "source": [
      "from the above plot it looks like a number for total salary and bonus. As this is not giving us much information for our analysis \n",
      "lets remove the outliers. Two more outliers (SKILLING JEFFREY and LAY KENNETH) I am leaving in the dataset as these values real \n",
      "and actually they are already a sign of these two managers being involved in the fraud. Now dataset look like this:"
     ]
    },
    {
     "cell_type": "code",
     "collapsed": false,
     "input": [
      "### remove any outliers before proceeding further\n",
      "features = [\"salary\", \"bonus\"]\n",
      "data_dict.pop('TOTAL', 0)\n",
      "data = featureFormat(data_dict, features)\n",
      "\n",
      "### remove NAN's from dataset\n",
      "outliers = []\n",
      "for key in data_dict:\n",
      "    val = data_dict[key]['salary']\n",
      "    if val == 'NaN':\n",
      "        continue\n",
      "    outliers.append((key, int(val)))\n",
      "\n",
      "outliers_final = (sorted(outliers,key=lambda x:x[1],reverse=True)[:4])\n",
      "### print top 4 salaries\n",
      "print outliers_final"
     ],
     "language": "python",
     "metadata": {},
     "outputs": [
      {
       "output_type": "stream",
       "stream": "stdout",
       "text": [
        "[('SKILLING JEFFREY K', 1111258), ('LAY KENNETH L', 1072321), ('FREVERT MARK A', 1060932), ('PICKERING MARK R', 655037)]\n"
       ]
      }
     ],
     "prompt_number": 6
    },
    {
     "cell_type": "code",
     "collapsed": false,
     "input": [
      "### plot the features \n",
      "for point in data: \n",
      "     salary = point[0] \n",
      "     bonus = point[1] \n",
      "     plt.scatter( salary, bonus ) \n",
      " \n",
      " \n",
      "plt.xlabel(\"salary\") \n",
      "plt.ylabel(\"bonus\") \n",
      "#plt.show() \n"
     ],
     "language": "python",
     "metadata": {},
     "outputs": [
      {
       "metadata": {},
       "output_type": "pyout",
       "prompt_number": 7,
       "text": [
        "<matplotlib.text.Text at 0xbef82b0>"
       ]
      }
     ],
     "prompt_number": 7
    },
    {
     "cell_type": "code",
     "collapsed": false,
     "input": [
      "Image(filename='no_outliers.png')"
     ],
     "language": "python",
     "metadata": {},
     "outputs": [
      {
       "metadata": {},
       "output_type": "pyout",
       "png": "[encoded data removed]",
       "prompt_number": 9,
       "text": [
        "<IPython.core.display.Image at 0x2ccf070>"
       ]
      }
     ],
     "prompt_number": 9
    },
    {
     "cell_type": "heading",
     "level": 2,
     "metadata": {},
     "source": [
      "Feature processing"
     ]
    },
    {
     "cell_type": "markdown",
     "metadata": {},
     "source": [
      " After removing the outliers i tried to use the features that gives meaningful insights. when we tried to use 'from_poi_to_this_person' \n",
      "    or 'from_this_person_to_poi'  it didnt give any interesting pattern. then i tried with of \u201cfrom/to poi messages\u201d and \u201ctotal from/to messages\u201d."
     ]
    },
    {
     "cell_type": "code",
     "collapsed": false,
     "input": [
      "### create new features\n",
      "### new features are: fraction_to_poi_email,fraction_from_poi_email\n",
      "\n",
      "def dict_to_list(key,normalizer):\n",
      "    new_list=[]\n",
      "\n",
      "    for i in data_dict:\n",
      "        if data_dict[i][key]==\"NaN\" or data_dict[i][normalizer]==\"NaN\":\n",
      "            new_list.append(0.)\n",
      "        elif data_dict[i][key]>=0:\n",
      "            new_list.append(float(data_dict[i][key])/float(data_dict[i][normalizer]))\n",
      "    return new_list\n",
      "\n",
      "### create two lists of new features\n",
      "fraction_from_poi_email=dict_to_list(\"from_poi_to_this_person\",\"to_messages\")\n",
      "fraction_to_poi_email=dict_to_list(\"from_this_person_to_poi\",\"from_messages\")\n",
      "\n",
      "### insert new features into data_dict\n",
      "count=0\n",
      "for i in data_dict:\n",
      "    data_dict[i][\"fraction_from_poi_email\"]=fraction_from_poi_email[count]\n",
      "    data_dict[i][\"fraction_to_poi_email\"]=fraction_to_poi_email[count]\n",
      "    count +=1\n",
      "\n",
      "    \n",
      "features_list = [\"poi\", \"fraction_from_poi_email\", \"fraction_to_poi_email\"]    \n",
      "    ### store to my_dataset for easy export below\n",
      "my_dataset = data_dict\n",
      "\n",
      "\n",
      "### these two lines extract the features specified in features_list\n",
      "### and extract them from data_dict, returning a numpy array\n",
      "data = featureFormat(my_dataset, features_list)\n",
      "\n",
      "### plot new features\n",
      "for point in data:\n",
      "    from_poi = point[1]\n",
      "    to_poi = point[2]\n",
      "    plt.scatter( from_poi, to_poi )\n",
      "    \n",
      "    if point[0] == 1:\n",
      "        plt.scatter(from_poi, to_poi, color=\"r\", marker=\"*\")\n",
      "#plt.legend(\"Red --  from_poi\", to_poi)\n",
      "plt.xlabel(\"fraction of emails this person gets from poi\")\n",
      "plt.ylabel(\"fraction of emails this person sends to poi\")\n",
      "#plt.legend(loc=2)\n",
      "plt.show()\n"
     ],
     "language": "python",
     "metadata": {},
     "outputs": [],
     "prompt_number": 8
    },
    {
     "cell_type": "code",
     "collapsed": false,
     "input": [
      "\n",
      "\n",
      "Image(filename='poi_nonpoi.png')"
     ],
     "language": "python",
     "metadata": {},
     "outputs": [
      {
       "metadata": {},
       "output_type": "pyout",
       "png": "[encoded data removed]",
       "prompt_number": 11,
       "text": [
        "<IPython.core.display.Image at 0xbfd7a30>"
       ]
      }
     ],
     "prompt_number": 11
    },
    {
     "cell_type": "markdown",
     "metadata": {},
     "source": [
      "To find the most effective features for classification, feature selection using \u201cDecision Tree\u201d was deployed to rank \n",
      "the features. Selection features was half manual iterative process. First I put all the possible features into features_list \n",
      "and then started deleting them one by one using score value and human intuition."
     ]
    },
    {
     "cell_type": "code",
     "collapsed": false,
     "input": [
      "features_list = [\"poi\", \"salary\", \"bonus\", \"fraction_from_poi_email\", \"fraction_to_poi_email\",\n",
      "                 'deferral_payments', 'total_payments', 'loan_advances', 'restricted_stock_deferred',\n",
      "                 'deferred_income', 'total_stock_value', 'expenses', 'exercised_stock_options',\n",
      "                 'long_term_incentive', 'shared_receipt_with_poi', 'restricted_stock', 'director_fees']\n",
      "data = featureFormat(my_dataset, features_list)\n",
      "\n",
      "### split into labels and features (this line assumes that the first\n",
      "### feature in the array is the label, which is why \"poi\" must always\n",
      "### be first in features_list\n",
      "labels, features = targetFeatureSplit(data)\n",
      "\n",
      "### split data into training and testing datasets\n",
      "from sklearn import cross_validation\n",
      "features_train, features_test, labels_train, labels_test = cross_validation.train_test_split(features, labels, test_size=0.1, random_state=42)\n",
      "\n",
      "\n",
      "\n",
      "\n",
      "from sklearn.tree import DecisionTreeClassifier\n",
      "\n",
      "t0 = time()\n",
      "\n",
      "clf = DecisionTreeClassifier()\n",
      "clf.fit(features_train,labels_train)\n",
      "score = clf.score(features_test,labels_test)\n",
      "pred= clf.predict(features_test)\n",
      "print 'accuracy', score\n",
      "\n",
      "print \"Decision tree algorithm time:\", round(time()-t0, 3), \"s\"\n",
      "\n",
      "\n",
      "\n",
      "importances = clf.feature_importances_\n",
      "import numpy as np\n",
      "indices = np.argsort(importances)[::-1]\n",
      "print 'Feature Ranking: '\n",
      "for i in range(16):\n",
      "    print \"{} feature {} ({})\".format(i+1,features_list[i+1],importances[indices[i]])"
     ],
     "language": "python",
     "metadata": {},
     "outputs": [
      {
       "output_type": "stream",
       "stream": "stdout",
       "text": [
        "accuracy 0.733333333333\n",
        "Decision tree algorithm time: 0.002 s\n",
        "Feature Ranking: \n",
        "1 feature salary (0.211707133446)\n",
        "2 feature bonus (0.195434931454)\n",
        "3 feature fraction_from_poi_email (0.14622972935)\n",
        "4 feature fraction_to_poi_email (0.118337314859)\n",
        "5 feature deferral_payments (0.0879795396419)\n",
        "6 feature total_payments (0.0747826086957)\n",
        "7 feature loan_advances (0.0534161490683)\n",
        "8 feature restricted_stock_deferred (0.0534161490683)\n",
        "9 feature deferred_income (0.0377115287109)\n",
        "10 feature total_stock_value (0.0209849157054)\n",
        "11 feature expenses (0.0)\n",
        "12 feature exercised_stock_options (0.0)\n",
        "13 feature long_term_incentive (0.0)\n",
        "14 feature shared_receipt_with_poi (0.0)\n",
        "15 feature restricted_stock (0.0)\n",
        "16 feature director_fees (0.0)\n"
       ]
      }
     ],
     "prompt_number": 9
    },
    {
     "cell_type": "markdown",
     "metadata": {},
     "source": [
      "\n",
      "\n",
      "\n",
      "\n",
      "Based on the feature ranking, i have choosen the top 10 features : \n",
      "[\"salary\", \"bonus\", \"fraction_from_poi_email\", \"fraction_to_poi_email\", 'deferral_payments', 'total_payments', 'loan_advances',\n",
      " 'restricted_stock_deferred', 'deferred_income', 'total_stock_value']\n",
      "\n",
      "Accuracy for this feature set is around 0.75.\n",
      "\n",
      "\n",
      "\n",
      "\n",
      "\n",
      "\n",
      "But with these features my precision and recall were too low (less than 0.25) so I had to change my strategy \n",
      "and manually pick features which gave me precision and recall values over 0.25.\n",
      "In this dataset I cannot use accuracy for evaluating my algorithm because there a few POI\u2019s in dataset and the best evaluator\n",
      "are precision and recall. There were only 18 examples of POIs in the dataset. \n",
      "There were 35 people who were POIs in \u201creal life\u201d, but for various reasons, half of those are not present in this dataset.\n",
      "\n",
      "\n",
      "\n",
      "\n",
      "\n",
      "\n",
      "Finally I picked the following features: [\"fraction_from_poi_email\", \"fraction_to_poi_email\", \u201cshared_receipt_with_poi\u201d]\n"
     ]
    },
    {
     "cell_type": "heading",
     "level": 2,
     "metadata": {},
     "source": [
      "Machine Learning Algoritham Selection : "
     ]
    },
    {
     "cell_type": "code",
     "collapsed": false,
     "input": [
      "\n",
      "\n",
      "\n",
      "\n",
      "features_list = [\"poi\", \"fraction_from_poi_email\", \"fraction_to_poi_email\", \"shared_receipt_with_poi\"]\n",
      "\n",
      "### try Naive Bayes for prediction\n",
      "t0 = time()\n",
      "\n",
      "clf = GaussianNB()\n",
      "clf.fit(features_train, labels_train)\n",
      "pred = clf.predict(features_test)\n",
      "accuracy = accuracy_score(pred,labels_test)\n",
      "print accuracy\n",
      "\n",
      "print \"NB algorithm time:\", round(time()-t0, 3), \"s\"\n"
     ],
     "language": "python",
     "metadata": {},
     "outputs": [
      {
       "output_type": "stream",
       "stream": "stdout",
       "text": [
        "0.2\n",
        "NB algorithm time: 0.001 s\n"
       ]
      }
     ],
     "prompt_number": 13
    },
    {
     "cell_type": "raw",
     "metadata": {
      "slideshow": {
       "slide_type": "slide"
      }
     },
     "source": [
      "Firstly I tried Naive Bayes accuracy was lower than with Decision Tree Algorithm (0.83 and 0.9 respectively). I made a \n",
      "conclusion that that the feature set I used does not suit the distributional and interactive assumptions of Naive Bayes well \n",
      "enough. I selected Decision Tree Algorithm for the POI identifier. It gave me accuracy before tuning parameters = 0.9. \n",
      "No feature scaling was deployed, as it\u2019s not necessary when using a decision tree. After selecting features and algorithm \n",
      "I manually tuned parameter min_samples_split.\n",
      "\n",
      "min_samples_split    precision    recall\n",
      "      2                0.5         0.67\n",
      "      3                0.67         0.67\n",
      "      4                0.67         0.67\n",
      "      5                0.67        0.67\n",
      "      6                0.5         0.67\n",
      "      7                0.5        0.67\n",
      "   average             0.55        0.67\n",
      "\n",
      "It turned out that the best values for min_samples_split are 4 and 5.\n"
     ]
    },
    {
     "cell_type": "code",
     "collapsed": false,
     "input": [
      "### use manual tuning parameter min_samples_split\n",
      "clf = DecisionTreeClassifier(min_samples_split=4)"
     ],
     "language": "python",
     "metadata": {},
     "outputs": []
    },
    {
     "cell_type": "heading",
     "level": 2,
     "metadata": {},
     "source": [
      "Approach Validations : "
     ]
    },
    {
     "cell_type": "code",
     "collapsed": false,
     "input": [
      "This process was validated using 3-fold cross-validation, precision and recall scores. First I used accuracy to evaluate my \n",
      "algorithm. It was a mistake because in this case we have a class imbalance problem - the number of POIs is small compared to \n",
      "the total number of examples in the dataset. So I had to use precision and recall for these activities instead. \n",
      "\n",
      "I was able to reach average value of precision = 0.68, recall = 0.67."
     ],
     "language": "python",
     "metadata": {},
     "outputs": []
    },
    {
     "cell_type": "code",
     "collapsed": false,
     "input": [
      "### features_list is a list of strings, each of which is a feature name\n",
      "### first feature must be \"poi\", as this will be singled out as the label\n",
      "features_list = [\"poi\",\"fraction_from_poi_email\", \"fraction_to_poi_email\", 'shared_receipt_with_poi']\n",
      "\n",
      "\n",
      "### store to my_dataset for easy export below\n",
      "my_dataset = data_dict\n",
      "\n",
      "\n",
      "### these two lines extract the features specified in features_list\n",
      "### and extract them from data_dict, returning a numpy array\n",
      "data = featureFormat(my_dataset, features_list)\n",
      "\n",
      "\n",
      "### split into labels and features (this line assumes that the first\n",
      "### feature in the array is the label, which is why \"poi\" must always\n",
      "### be first in features_list\n",
      "labels, features = targetFeatureSplit(data)\n",
      "\n",
      "\n",
      "### machine learning goes here!\n",
      "### please name your classifier clf for easy export below\n",
      "\n",
      "### deploying feature selection\n",
      "from sklearn import cross_validation\n",
      "features_train, features_test, labels_train, labels_test = cross_validation.train_test_split(features, labels, test_size=0.1, random_state=42)\n",
      "\n",
      "### use KFold for split and validate algorithm\n",
      "from sklearn.cross_validation import KFold\n",
      "kf=KFold(len(labels),3)\n",
      "for train_indices, test_indices in kf:\n",
      "    #make training and testing sets\n",
      "    features_train= [features[ii] for ii in train_indices]\n",
      "    features_test= [features[ii] for ii in test_indices]\n",
      "    labels_train=[labels[ii] for ii in train_indices]\n",
      "    labels_test=[labels[ii] for ii in test_indices]\n",
      "\n",
      "from sklearn.tree import DecisionTreeClassifier\n",
      "\n",
      "t0 = time()\n",
      "\n",
      "clf = DecisionTreeClassifier()\n",
      "clf.fit(features_train,labels_train)\n",
      "score = clf.score(features_test,labels_test)\n",
      "print 'accuracy before tuning ', score\n",
      "\n",
      "print \"Decision tree algorithm time:\", round(time()-t0, 3), \"s\"\n",
      "\n",
      "\n",
      "### use manual tuning parameter min_samples_split\n",
      "t0 = time()\n",
      "clf = DecisionTreeClassifier(min_samples_split=5)\n",
      "clf = clf.fit(features_train,labels_train)\n",
      "pred= clf.predict(features_test)\n",
      "print(\"done in %0.3fs\" % (time() - t0))\n",
      "\n",
      "acc=accuracy_score(labels_test, pred)\n",
      "\n",
      "print \"Validating algorithm:\"\n",
      "print \"accuracy after tuning = \", acc\n",
      "\n",
      "# function for calculation ratio of true positives\n",
      "# out of all positives (true + false)\n",
      "print 'precision = ', precision_score(labels_test,pred)\n",
      "\n",
      "# function for calculation ratio of true positives\n",
      "# out of true positives and false negatives\n",
      "print 'recall = ', recall_score(labels_test,pred)\n",
      "\n",
      "\n",
      "### dump your classifier, dataset and features_list so\n",
      "### anyone can run/check your results\n",
      "pickle.dump(clf, open(\"my_classifier.pkl\", \"w\") )\n",
      "pickle.dump(data_dict, open(\"my_dataset.pkl\", \"w\") )\n",
      "pickle.dump(features_list, open(\"my_feature_list.pkl\", \"w\") )\n"
     ],
     "language": "python",
     "metadata": {},
     "outputs": [
      {
       "output_type": "stream",
       "stream": "stdout",
       "text": [
        "accuracy before tuning  0.892857142857\n",
        "Decision tree algorithm time: 0.001 s\n",
        "done in 0.002s\n",
        "Validating algorithm:\n",
        "accuracy after tuning =  0.928571428571\n",
        "precision =  0.666666666667\n",
        "recall =  0.666666666667\n"
       ]
      }
     ],
     "prompt_number": 24
    },
    {
     "cell_type": "code",
     "collapsed": false,
     "input": [],
     "language": "python",
     "metadata": {},
     "outputs": []
    }
   ],
   "metadata": {}
  }
 ]
}